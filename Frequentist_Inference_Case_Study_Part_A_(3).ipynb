{
  "nbformat": 4,
  "nbformat_minor": 0,
  "metadata": {
    "kernelspec": {
      "display_name": "Python 3",
      "language": "python",
      "name": "python3"
    },
    "language_info": {
      "codemirror_mode": {
        "name": "ipython",
        "version": 3
      },
      "file_extension": ".py",
      "mimetype": "text/x-python",
      "name": "python",
      "nbconvert_exporter": "python",
      "pygments_lexer": "ipython3",
      "version": "3.7.3"
    },
    "colab": {
      "name": "Frequentist Inference Case Study - Part A (3).ipynb",
      "provenance": [],
      "collapsed_sections": [
        "14YQIWGz593U"
      ],
      "include_colab_link": true
    }
  },
  "cells": [
    {
      "cell_type": "markdown",
      "metadata": {
        "id": "view-in-github",
        "colab_type": "text"
      },
      "source": [
        "<a href=\"https://colab.research.google.com/github/ArvindRe/11.1.3/blob/master/Frequentist_Inference_Case_Study_Part_A_(3).ipynb\" target=\"_parent\"><img src=\"https://colab.research.google.com/assets/colab-badge.svg\" alt=\"Open In Colab\"/></a>"
      ]
    },
    {
      "cell_type": "markdown",
      "metadata": {
        "id": "VuZ8GhzL591V",
        "colab_type": "text"
      },
      "source": [
        "# Frequentist Inference Case Study - Part A "
      ]
    },
    {
      "cell_type": "markdown",
      "metadata": {
        "id": "uiuFLf8C591W",
        "colab_type": "text"
      },
      "source": [
        "## 1. Learning objectives"
      ]
    },
    {
      "cell_type": "markdown",
      "metadata": {
        "id": "EHGFoGD7591X",
        "colab_type": "text"
      },
      "source": [
        "Welcome to part A of the Frequentist inference case study! The purpose of this case study is to help you apply the concepts associated with Frequentist inference in Python. Frequentist inference is the process of deriving conclusions about an underlying distribution via the observation of data. In particular, you'll practice writing Python code to apply the following statistical concepts: \n",
        "* the _z_-statistic\n",
        "* the _t_-statistic\n",
        "* the difference and relationship between the two\n",
        "* the Central Limit Theorem, including its assumptions and consequences\n",
        "* how to estimate the population mean and standard deviation from a sample\n",
        "* the concept of a sampling distribution of a test statistic, particularly for the mean\n",
        "* how to combine these concepts to calculate a confidence interval"
      ]
    },
    {
      "cell_type": "markdown",
      "metadata": {
        "id": "b3feIaev591X",
        "colab_type": "text"
      },
      "source": [
        "## Prerequisites"
      ]
    },
    {
      "cell_type": "markdown",
      "metadata": {
        "id": "V874g3zN591Y",
        "colab_type": "text"
      },
      "source": [
        "To be able to complete this notebook, you are expected to have a basic understanding of:\n",
        "* what a random variable is (p.400 of Professor Spiegelhalter's *The Art of Statistics, hereinafter AoS*)\n",
        "* what a population, and a population distribution, are (p. 397 of *AoS*)\n",
        "* a high-level sense of what the normal distribution is (p. 394 of *AoS*)\n",
        "* what the t-statistic is (p. 275 of *AoS*)\n",
        "\n",
        "Happily, these should all be concepts with which you are reasonably familiar after having read ten chapters of Professor Spiegelhalter's book, *The Art of Statistics*.\n",
        "\n",
        "We'll try to relate the concepts in this case study back to page numbers in *The Art of Statistics* so that you can focus on the Python aspects of this case study. The second part (part B) of this case study will involve another, more real-world application of these tools. "
      ]
    },
    {
      "cell_type": "markdown",
      "metadata": {
        "id": "TtbUrC--591Z",
        "colab_type": "text"
      },
      "source": [
        "For this notebook, we will use data sampled from a known normal distribution. This allows us to compare our results with theoretical expectations."
      ]
    },
    {
      "cell_type": "markdown",
      "metadata": {
        "id": "AcxwRKiU591a",
        "colab_type": "text"
      },
      "source": [
        "## 2. An introduction to sampling from the normal distribution"
      ]
    },
    {
      "cell_type": "markdown",
      "metadata": {
        "id": "8rEfSF25591b",
        "colab_type": "text"
      },
      "source": [
        "First, let's explore the ways we can generate the normal distribution. While there's a fair amount of interest in [sklearn](https://scikit-learn.org/stable/) within the machine learning community, you're likely to have heard of [scipy](https://docs.scipy.org/doc/scipy-0.15.1/reference/index.html) if you're coming from the sciences. For this assignment, you'll use [scipy.stats](https://docs.scipy.org/doc/scipy-0.15.1/reference/tutorial/stats.html) to complete your work. \n",
        "\n",
        "This assignment will require some digging around and getting your hands dirty (your learning is maximized that way)! You should have the research skills and the tenacity to do these tasks independently, but if you struggle, reach out to your immediate community and your mentor for help. "
      ]
    },
    {
      "cell_type": "code",
      "metadata": {
        "id": "tCkRC5Qc591c",
        "colab_type": "code",
        "colab": {}
      },
      "source": [
        "from scipy.stats import norm\n",
        "from scipy.stats import t\n",
        "import numpy as np\n",
        "import pandas as pd\n",
        "from numpy.random import seed\n",
        "import matplotlib.pyplot as plt"
      ],
      "execution_count": null,
      "outputs": []
    },
    {
      "cell_type": "markdown",
      "metadata": {
        "id": "XxT4mfcX591f",
        "colab_type": "text"
      },
      "source": [
        "__Q1:__ Call up the documentation for the `norm` function imported above. (Hint: that documentation is [here](https://docs.scipy.org/doc/scipy/reference/generated/scipy.stats.norm.html)). What is the second listed method?"
      ]
    },
    {
      "cell_type": "code",
      "metadata": {
        "id": "zYlJ4iHg591g",
        "colab_type": "code",
        "colab": {
          "base_uri": "https://localhost:8080/",
          "height": 283
        },
        "outputId": "aabd8058-4998-4239-a4db-4c4352dd2035"
      },
      "source": [
        "#help(norm)\n",
        "x = np.linspace(norm.ppf(0.01),norm.ppf(0.99), 100)\n",
        "fig, ax = plt.subplots(1, 1)\n",
        "ax.plot(x, norm.pdf(x),'r-', lw=5, alpha=0.6, label='norm pdf')"
      ],
      "execution_count": null,
      "outputs": [
        {
          "output_type": "execute_result",
          "data": {
            "text/plain": [
              "[<matplotlib.lines.Line2D at 0x7fe7b6e60eb8>]"
            ]
          },
          "metadata": {
            "tags": []
          },
          "execution_count": 27
        },
        {
          "output_type": "display_data",
          "data": {
            "image/png": "[encoded data removed]",
            "text/plain": [
              "<Figure size 432x288 with 1 Axes>"
            ]
          },
          "metadata": {
            "tags": [],
            "needs_background": "light"
          }
        }
      ]
    },
    {
      "cell_type": "markdown",
      "metadata": {
        "id": "5Jq7WrG6591j",
        "colab_type": "text"
      },
      "source": [
        "__A:__  Probability density function (pdf)"
      ]
    },
    {
      "cell_type": "markdown",
      "metadata": {
        "id": "y3jfpd5b591j",
        "colab_type": "text"
      },
      "source": [
        "__Q2:__ Use the method that generates random variates to draw five samples from the standard normal distribution. "
      ]
    },
    {
      "cell_type": "markdown",
      "metadata": {
        "id": "JoYOknOn591k",
        "colab_type": "text"
      },
      "source": [
        "__A:__ rvs(loc=0, scale=1, size=1, random_state=None)\n",
        "\n"
      ]
    },
    {
      "cell_type": "code",
      "metadata": {
        "id": "tryQA3dH591l",
        "colab_type": "code",
        "colab": {
          "base_uri": "https://localhost:8080/",
          "height": 300
        },
        "outputId": "d057fac9-2687-4054-9486-41f70dd46822"
      },
      "source": [
        "seed(47)\n",
        "# draw five samples here\n",
        "r = norm.rvs(size=5)\n",
        "print(r)\n",
        "fig, ax = plt.subplots(1, 1)\n",
        "ax.hist(r, density=True, histtype='stepfilled', alpha=0.2)\n",
        "ax.legend(loc='best', frameon=False)\n",
        "plt.show()"
      ],
      "execution_count": null,
      "outputs": [
        {
          "output_type": "stream",
          "text": [
            "No handles with labels found to put in legend.\n"
          ],
          "name": "stderr"
        },
        {
          "output_type": "stream",
          "text": [
            "[-0.84800948  1.30590636  0.92420797  0.6404118  -1.05473698]\n"
          ],
          "name": "stdout"
        },
        {
          "output_type": "display_data",
          "data": {
            "image/png": "[encoded data removed]",
            "text/plain": [
              "<Figure size 432x288 with 1 Axes>"
            ]
          },
          "metadata": {
            "tags": [],
            "needs_background": "light"
          }
        }
      ]
    },
    {
      "cell_type": "markdown",
      "metadata": {
        "id": "TJpYvVKb591n",
        "colab_type": "text"
      },
      "source": [
        "__Q3:__ What is the mean of this sample? Is it exactly equal to the value you expected? Hint: the sample was drawn from the standard normal distribution. If you want a reminder of the properties of this distribution, check out p. 85 of *AoS*. "
      ]
    },
    {
      "cell_type": "markdown",
      "metadata": {
        "id": "5A6ZcpZN591o",
        "colab_type": "text"
      },
      "source": [
        "__A:__No. Also, sample size is too small."
      ]
    },
    {
      "cell_type": "code",
      "metadata": {
        "id": "QjIYvFrP591p",
        "colab_type": "code",
        "colab": {
          "base_uri": "https://localhost:8080/",
          "height": 35
        },
        "outputId": "07247967-d37f-42fd-9dbb-85414bbfd05c"
      },
      "source": [
        "# Calculate and print the mean here, hint: use np.mean()\n",
        "m=np.mean(r)\n",
        "print(m)"
      ],
      "execution_count": null,
      "outputs": [
        {
          "output_type": "stream",
          "text": [
            "0.19355593334131074\n"
          ],
          "name": "stdout"
        }
      ]
    },
    {
      "cell_type": "markdown",
      "metadata": {
        "id": "Qp9YOCBW591r",
        "colab_type": "text"
      },
      "source": [
        "__Q4:__ What is the standard deviation of these numbers? Calculate this manually here as $\\sqrt{\\frac{\\sum_i(x_i - \\bar{x})^2}{n}}$ (This is just the definition of **standard deviation** given by Professor Spiegelhalter on p.403 of *AoS*). Hint: np.sqrt() and np.sum() will be useful here and remember that numPy supports [broadcasting](https://docs.scipy.org/doc/numpy/user/basics.broadcasting.html)."
      ]
    },
    {
      "cell_type": "markdown",
      "metadata": {
        "id": "pmChlGDJ591s",
        "colab_type": "text"
      },
      "source": [
        "__A:__0.9606195639478641"
      ]
    },
    {
      "cell_type": "code",
      "metadata": {
        "id": "4_fS49ih591t",
        "colab_type": "code",
        "colab": {
          "base_uri": "https://localhost:8080/",
          "height": 121
        },
        "outputId": "1cdcc051-4f2d-4f8d-8833-2abc96eacb18"
      },
      "source": [
        "d=(r-m)\n",
        "print(\"Difference=\", d)\n",
        "d_sq=(np.square(d))\n",
        "print(\"Difference squares=\", d_sq)\n",
        "s=np.sum(d_sq)\n",
        "print(\"Sum of Differences=\",s)\n",
        "v=s/(5)\n",
        "print(\"Variance=\",v)\n",
        "SD=np.sqrt(v)\n",
        "print(\"Standard Deviation=\",SD)\n",
        "\n",
        "#in short\n",
        "print(np.sqrt((np.sum(np.square(r-m))/5)))"
      ],
      "execution_count": null,
      "outputs": [
        {
          "output_type": "stream",
          "text": [
            "Difference= [-1.04156541  1.11235042  0.73065203  0.44685587 -1.24829292]\n",
            "Difference squares= [1.0848585  1.23732347 0.53385239 0.19968017 1.5582352 ]\n",
            "Sum of Differences= 4.613949733196923\n",
            "Variance= 0.9227899466393845\n",
            "Standard Deviation= 0.9606195639478641\n",
            "0.9606195639478641\n"
          ],
          "name": "stdout"
        }
      ]
    },
    {
      "cell_type": "markdown",
      "metadata": {
        "id": "toVRqOqM591w",
        "colab_type": "text"
      },
      "source": [
        "Here we have calculated the actual standard deviation of a small data set (of size 5). But in this case, this small data set is actually a sample from our larger (infinite) population. In this case, the population is infinite because we could keep drawing our normal random variates until our computers die! \n",
        "\n",
        "In general, the sample mean we calculate will not be equal to the population mean (as we saw above). A consequence of this is that the sum of squares of the deviations from the _population_ mean will be bigger than the sum of squares of the deviations from the _sample_ mean. In other words, the sum of squares of the deviations from the _sample_ mean is too small to give an unbiased estimate of the _population_ variance. An example of this effect is given [here](https://en.wikipedia.org/wiki/Bessel%27s_correction#Source_of_bias). Scaling our estimate of the variance by the factor $n/(n-1)$ gives an unbiased estimator of the population variance. This factor is known as [Bessel's correction](https://en.wikipedia.org/wiki/Bessel%27s_correction). The consequence of this is that the $n$ in the denominator is replaced by $n-1$.\n",
        "\n",
        "You can see Bessel's correction reflected in Professor Spiegelhalter's definition of **variance** on p. 405 of *AoS*.\n",
        "\n",
        "__Q5:__ If all we had to go on was our five samples, what would be our best estimate of the population standard deviation? Use Bessel's correction ($n-1$ in the denominator), thus $\\sqrt{\\frac{\\sum_i(x_i - \\bar{x})^2}{n-1}}$."
      ]
    },
    {
      "cell_type": "markdown",
      "metadata": {
        "id": "khFN__Ex591w",
        "colab_type": "text"
      },
      "source": [
        "__A:__1.0740053227518152"
      ]
    },
    {
      "cell_type": "code",
      "metadata": {
        "id": "7vOBlIxy591x",
        "colab_type": "code",
        "colab": {
          "base_uri": "https://localhost:8080/",
          "height": 35
        },
        "outputId": "a8af2769-8243-48a9-dbf8-59c52cb9357d"
      },
      "source": [
        "print(np.sqrt((np.sum(np.square(r-m))/4)))"
      ],
      "execution_count": null,
      "outputs": [
        {
          "output_type": "stream",
          "text": [
            "1.0740053227518152\n"
          ],
          "name": "stdout"
        }
      ]
    },
    {
      "cell_type": "markdown",
      "metadata": {
        "id": "Tn-oXjgX5910",
        "colab_type": "text"
      },
      "source": [
        "__Q6:__ Now use numpy's std function to calculate the standard deviation of our random samples. Which of the above standard deviations did it return?"
      ]
    },
    {
      "cell_type": "markdown",
      "metadata": {
        "id": "kGrEnC2q5910",
        "colab_type": "text"
      },
      "source": [
        "__A:__0.9606195639478641"
      ]
    },
    {
      "cell_type": "code",
      "metadata": {
        "id": "XOJjkXDA5911",
        "colab_type": "code",
        "colab": {
          "base_uri": "https://localhost:8080/",
          "height": 35
        },
        "outputId": "ffd45a59-c1bb-4b66-ed08-693f1a0e1814"
      },
      "source": [
        "print(np.std(r))"
      ],
      "execution_count": null,
      "outputs": [
        {
          "output_type": "stream",
          "text": [
            "0.9606195639478641\n"
          ],
          "name": "stdout"
        }
      ]
    },
    {
      "cell_type": "markdown",
      "metadata": {
        "id": "k4phaWqE5913",
        "colab_type": "text"
      },
      "source": [
        "__Q7:__ Consult the documentation for np.std() to see how to apply the correction for estimating the population parameter and verify this produces the expected result."
      ]
    },
    {
      "cell_type": "markdown",
      "metadata": {
        "id": "eGr9fEuN5914",
        "colab_type": "text"
      },
      "source": [
        "__A:__"
      ]
    },
    {
      "cell_type": "code",
      "metadata": {
        "id": "Je2ZkTF25915",
        "colab_type": "code",
        "colab": {}
      },
      "source": [
        "#help(norm)"
      ],
      "execution_count": null,
      "outputs": []
    },
    {
      "cell_type": "code",
      "metadata": {
        "id": "x25B-KUm5918",
        "colab_type": "code",
        "colab": {
          "base_uri": "https://localhost:8080/",
          "height": 35
        },
        "outputId": "012b92fc-34fe-4f71-d6de-33b3e35da026"
      },
      "source": [
        "print(np.std(r, ddof=1))"
      ],
      "execution_count": null,
      "outputs": [
        {
          "output_type": "stream",
          "text": [
            "1.0740053227518152\n"
          ],
          "name": "stdout"
        }
      ]
    },
    {
      "cell_type": "markdown",
      "metadata": {
        "id": "lV2yojgL591-",
        "colab_type": "text"
      },
      "source": [
        "### Summary of section"
      ]
    },
    {
      "cell_type": "markdown",
      "metadata": {
        "id": "tuyo14M6591_",
        "colab_type": "text"
      },
      "source": [
        "In this section, you've been introduced to the scipy.stats package and used it to draw a small sample from the standard normal distribution. You've calculated the average (the mean) of this sample and seen that this is not exactly equal to the expected population parameter (which we know because we're generating the random variates from a specific, known distribution). You've been introduced to two ways of calculating the standard deviation; one uses $n$ in the denominator and the other uses $n-1$ (Bessel's correction). You've also seen which of these calculations np.std() performs by default and how to get it to generate the other."
      ]
    },
    {
      "cell_type": "markdown",
      "metadata": {
        "id": "cuvqzub4591_",
        "colab_type": "text"
      },
      "source": [
        "You use $n$ as the denominator if you want to calculate the standard deviation of a sequence of numbers. You use $n-1$ if you are using this sequence of numbers to estimate the population parameter. This brings us to some terminology that can be a little confusing.\n",
        "\n",
        "The population parameter is traditionally written as $\\sigma$ and the sample statistic as $s$. Rather unhelpfully, $s$ is also called the sample standard deviation (using $n-1$) whereas the standard deviation of the sample uses $n$. That's right, we have the sample standard deviation and the standard deviation of the sample and they're not the same thing!\n",
        "\n",
        "The sample standard deviation\n",
        "\\begin{equation}\n",
        "s = \\sqrt{\\frac{\\sum_i(x_i - \\bar{x})^2}{n-1}} \\approx \\sigma,\n",
        "\\end{equation}\n",
        "is our best (unbiased) estimate of the population parameter ($\\sigma$).\n",
        "\n",
        "If your dataset _is_ your entire population, you simply want to calculate the population parameter, $\\sigma$, via\n",
        "\\begin{equation}\n",
        "\\sigma = \\sqrt{\\frac{\\sum_i(x_i - \\bar{x})^2}{n}}\n",
        "\\end{equation}\n",
        "as you have complete, full knowledge of your population. In other words, your sample _is_ your population. It's worth noting that we're dealing with what Professor Spiegehalter describes on p. 92 of *AoS* as a **metaphorical population**: we have all the data, and we act as if the data-point is taken from a population at random. We can think of this population as an imaginary space of possibilities. \n",
        "\n",
        "If, however, you have sampled _from_ your population, you only have partial knowledge of the state of your population. In this case, the standard deviation of your sample is not an unbiased estimate of the standard deviation of the population, in which case you seek to estimate that population parameter via the sample standard deviation, which uses the $n-1$ denominator."
      ]
    },
    {
      "cell_type": "markdown",
      "metadata": {
        "id": "g1NK_IMd592A",
        "colab_type": "text"
      },
      "source": [
        "Great work so far! Now let's dive deeper."
      ]
    },
    {
      "cell_type": "markdown",
      "metadata": {
        "id": "feEq9WGI592A",
        "colab_type": "text"
      },
      "source": [
        "## 3. Sampling distributions"
      ]
    },
    {
      "cell_type": "markdown",
      "metadata": {
        "id": "6yvf6DvC592B",
        "colab_type": "text"
      },
      "source": [
        "So far we've been dealing with the concept of taking a sample from a population to infer the population parameters. One statistic we calculated for a sample was the mean. As our samples will be expected to vary from one draw to another, so will our sample statistics. If we were to perform repeat draws of size $n$ and calculate the mean of each, we would expect to obtain a distribution of values. This is the sampling distribution of the mean. **The Central Limit Theorem (CLT)** tells us that such a distribution will approach a normal distribution as $n$ increases (the intuitions behind the CLT are covered in full on p. 236 of *AoS*). For the sampling distribution of the mean, the standard deviation of this distribution is given by\n",
        "\n",
        "\\begin{equation}\n",
        "\\sigma_{mean} = \\frac{\\sigma}{\\sqrt n}\n",
        "\\end{equation}\n",
        "\n",
        "where $\\sigma_{mean}$ is the standard deviation of the sampling distribution of the mean and $\\sigma$ is the standard deviation of the population (the population parameter)."
      ]
    },
    {
      "cell_type": "markdown",
      "metadata": {
        "id": "CEntU1_d592B",
        "colab_type": "text"
      },
      "source": [
        "This is important because typically we are dealing with samples from populations and all we know about the population is what we see in the sample. From this sample, we want to make inferences about the population. We may do this, for example, by looking at the histogram of the values and by calculating the mean and standard deviation (as estimates of the population parameters), and so we are intrinsically interested in how these quantities vary across samples. \n",
        "\n",
        "In other words, now that we've taken one sample of size $n$ and made some claims about the general population, what if we were to take another sample of size $n$? Would we get the same result? Would we make the same claims about the general population? This brings us to a fundamental question: _when we make some inference about a population based on our sample, how confident can we be that we've got it 'right'?_\n",
        "\n",
        "We need to think about **estimates and confidence intervals**: those concepts covered in Chapter 7, p. 189, of *AoS*."
      ]
    },
    {
      "cell_type": "markdown",
      "metadata": {
        "id": "CSb3msn7592C",
        "colab_type": "text"
      },
      "source": [
        "Now, the standard normal distribution (with its variance equal to its standard deviation of one) would not be a great illustration of a key point. Instead, let's imagine we live in a town of 50,000 people and we know the height of everyone in this town. We will have 50,000 numbers that tell us everything about our population. We'll simulate these numbers now and put ourselves in one particular town, called 'town 47', where the population mean height is 172 cm and population standard deviation is 5 cm."
      ]
    },
    {
      "cell_type": "code",
      "metadata": {
        "id": "Kr4K4U9c592D",
        "colab_type": "code",
        "colab": {}
      },
      "source": [
        "seed(47)\n",
        "pop_heights = norm.rvs(172, 5, size=50000)"
      ],
      "execution_count": null,
      "outputs": []
    },
    {
      "cell_type": "code",
      "metadata": {
        "id": "S5mhy52Q592F",
        "colab_type": "code",
        "colab": {
          "base_uri": "https://localhost:8080/",
          "height": 295
        },
        "outputId": "0e514d81-beb8-427e-df89-0090319bb5e2"
      },
      "source": [
        "_ = plt.hist(pop_heights, bins=30)\n",
        "_ = plt.xlabel('height (cm)')\n",
        "_ = plt.ylabel('number of people')\n",
        "_ = plt.title('Distribution of heights in entire town population')\n",
        "_ = plt.axvline(172, color='r')\n",
        "_ = plt.axvline(172+5, color='r', linestyle='--')\n",
        "_ = plt.axvline(172-5, color='r', linestyle='--')\n",
        "_ = plt.axvline(172+10, color='r', linestyle='-.')\n",
        "_ = plt.axvline(172-10, color='r', linestyle='-.')"
      ],
      "execution_count": null,
      "outputs": [
        {
          "output_type": "display_data",
          "data": {
            "image/png": "[encoded data removed]",
            "text/plain": [
              "<Figure size 432x288 with 1 Axes>"
            ]
          },
          "metadata": {
            "tags": [],
            "needs_background": "light"
          }
        }
      ]
    },
    {
      "cell_type": "markdown",
      "metadata": {
        "id": "KRxh2qwO592J",
        "colab_type": "text"
      },
      "source": [
        "Now, 50,000 people is rather a lot to chase after with a tape measure. If all you want to know is the average height of the townsfolk, then can you just go out and measure a sample to get a pretty good estimate of the average height?"
      ]
    },
    {
      "cell_type": "code",
      "metadata": {
        "id": "noaHitDv592J",
        "colab_type": "code",
        "colab": {}
      },
      "source": [
        "def townsfolk_sampler(n):\n",
        "    return np.random.choice(pop_heights, n)"
      ],
      "execution_count": null,
      "outputs": []
    },
    {
      "cell_type": "markdown",
      "metadata": {
        "id": "Bm6pjhU_592M",
        "colab_type": "text"
      },
      "source": [
        "Let's say you go out one day and randomly sample 10 people to measure."
      ]
    },
    {
      "cell_type": "code",
      "metadata": {
        "id": "dhT59Aod592N",
        "colab_type": "code",
        "colab": {}
      },
      "source": [
        "seed(47)\n",
        "daily_sample1 = townsfolk_sampler(10)"
      ],
      "execution_count": null,
      "outputs": []
    },
    {
      "cell_type": "code",
      "metadata": {
        "id": "SHeo4p7Y592P",
        "colab_type": "code",
        "colab": {
          "base_uri": "https://localhost:8080/",
          "height": 295
        },
        "outputId": "dfcfa3e7-0ab9-4e91-89a6-fcd695a27e08"
      },
      "source": [
        "_ = plt.hist(daily_sample1, bins=10)\n",
        "_ = plt.xlabel('height (cm)')\n",
        "_ = plt.ylabel('number of people')\n",
        "_ = plt.title('Distribution of heights in sample size 10')"
      ],
      "execution_count": null,
      "outputs": [
        {
          "output_type": "display_data",
          "data": {
            "image/png": "[encoded data removed]",
            "text/plain": [
              "<Figure size 432x288 with 1 Axes>"
            ]
          },
          "metadata": {
            "tags": [],
            "needs_background": "light"
          }
        }
      ]
    },
    {
      "cell_type": "markdown",
      "metadata": {
        "id": "P6_MCa8m592S",
        "colab_type": "text"
      },
      "source": [
        "The sample distribution doesn't resemble what we take the population distribution to be. What do we get for the mean?"
      ]
    },
    {
      "cell_type": "code",
      "metadata": {
        "id": "otpAFOWt592S",
        "colab_type": "code",
        "colab": {
          "base_uri": "https://localhost:8080/",
          "height": 35
        },
        "outputId": "49488161-f7e0-4801-e1c7-d8b8b38a4c0f"
      },
      "source": [
        "np.mean(daily_sample1)"
      ],
      "execution_count": null,
      "outputs": [
        {
          "output_type": "execute_result",
          "data": {
            "text/plain": [
              "173.47911444163503"
            ]
          },
          "metadata": {
            "tags": []
          },
          "execution_count": 69
        }
      ]
    },
    {
      "cell_type": "markdown",
      "metadata": {
        "id": "AWA2XILz592V",
        "colab_type": "text"
      },
      "source": [
        "And if we went out and repeated this experiment?"
      ]
    },
    {
      "cell_type": "code",
      "metadata": {
        "id": "ADo6apRz592V",
        "colab_type": "code",
        "colab": {}
      },
      "source": [
        "daily_sample2 = townsfolk_sampler(10)"
      ],
      "execution_count": null,
      "outputs": []
    },
    {
      "cell_type": "code",
      "metadata": {
        "id": "5O2bNLoX592X",
        "colab_type": "code",
        "colab": {
          "base_uri": "https://localhost:8080/",
          "height": 35
        },
        "outputId": "cfa75faa-5654-4132-cd63-557c10905bcb"
      },
      "source": [
        "np.mean(daily_sample2)"
      ],
      "execution_count": null,
      "outputs": [
        {
          "output_type": "execute_result",
          "data": {
            "text/plain": [
              "173.7317666636263"
            ]
          },
          "metadata": {
            "tags": []
          },
          "execution_count": 71
        }
      ]
    },
    {
      "cell_type": "markdown",
      "metadata": {
        "id": "aTK0U-6r592a",
        "colab_type": "text"
      },
      "source": [
        "__Q8:__ Simulate performing this random trial every day for a year, calculating the mean of each daily sample of 10, and plot the resultant sampling distribution of the mean."
      ]
    },
    {
      "cell_type": "markdown",
      "metadata": {
        "id": "wS3Dku6N592b",
        "colab_type": "text"
      },
      "source": [
        "__A:__"
      ]
    },
    {
      "cell_type": "code",
      "metadata": {
        "id": "2mclHpJU592b",
        "colab_type": "code",
        "colab": {}
      },
      "source": [
        "daily_mean = []"
      ],
      "execution_count": null,
      "outputs": []
    },
    {
      "cell_type": "code",
      "metadata": {
        "id": "q5Sy4fy8592e",
        "colab_type": "code",
        "colab": {}
      },
      "source": [
        "seed(47)\n",
        "# take your samples here\n",
        "for _ in range(365):\n",
        "    sample = townsfolk_sampler(10)\n",
        "    daily_mean.append(np.mean(sample))"
      ],
      "execution_count": null,
      "outputs": []
    },
    {
      "cell_type": "code",
      "metadata": {
        "id": "sMomRipL592i",
        "colab_type": "code",
        "colab": {
          "base_uri": "https://localhost:8080/",
          "height": 313
        },
        "outputId": "de6a9a9e-58ca-4cd4-bf1c-a160b1c82d78"
      },
      "source": [
        "print(daily_mean[:5])\n",
        "_ = plt.hist(daily_mean, bins=10)\n",
        "_ = plt.xlabel('height (cm)')\n",
        "_ = plt.ylabel('number of people')\n",
        "_ = plt.title('Distribution of heights in sample size 10')"
      ],
      "execution_count": null,
      "outputs": [
        {
          "output_type": "stream",
          "text": [
            "[173.47911444163503, 173.7317666636263, 172.54893867276104, 171.43257319553967, 172.7151613148319]\n"
          ],
          "name": "stdout"
        },
        {
          "output_type": "display_data",
          "data": {
            "image/png": "[encoded data removed]",
            "text/plain": [
              "<Figure size 432x288 with 1 Axes>"
            ]
          },
          "metadata": {
            "tags": [],
            "needs_background": "light"
          }
        }
      ]
    },
    {
      "cell_type": "markdown",
      "metadata": {
        "id": "q9iYfgdc592k",
        "colab_type": "text"
      },
      "source": [
        "The above is the distribution of the means of samples of size 10 taken from our population. The Central Limit Theorem tells us the expected mean of this distribution will be equal to the population mean, and standard deviation will be $\\sigma / \\sqrt n$, which, in this case, should be approximately 1.58."
      ]
    },
    {
      "cell_type": "markdown",
      "metadata": {
        "id": "ZyBrYyeA592l",
        "colab_type": "text"
      },
      "source": [
        "__Q9:__ Verify the above results from the CLT."
      ]
    },
    {
      "cell_type": "markdown",
      "metadata": {
        "id": "xCwv-E-k592l",
        "colab_type": "text"
      },
      "source": [
        "__A:__171.8660049358649 ~ 172\n",
        "      1.57567 ~ 1.58"
      ]
    },
    {
      "cell_type": "code",
      "metadata": {
        "id": "_eCI9njH592m",
        "colab_type": "code",
        "colab": {
          "base_uri": "https://localhost:8080/",
          "height": 35
        },
        "outputId": "630456aa-cf1b-46b3-ba00-bc554fbfb990"
      },
      "source": [
        "print(np.mean(daily_mean))"
      ],
      "execution_count": null,
      "outputs": [
        {
          "output_type": "stream",
          "text": [
            "171.8660049358649\n"
          ],
          "name": "stdout"
        }
      ]
    },
    {
      "cell_type": "code",
      "metadata": {
        "id": "nIKy0Nlv592o",
        "colab_type": "code",
        "colab": {
          "base_uri": "https://localhost:8080/",
          "height": 35
        },
        "outputId": "1bc0f594-396e-4390-deb1-8b6b306bbfa4"
      },
      "source": [
        "print(np.std(daily_mean))"
      ],
      "execution_count": null,
      "outputs": [
        {
          "output_type": "stream",
          "text": [
            "1.5756704135286475\n"
          ],
          "name": "stdout"
        }
      ]
    },
    {
      "cell_type": "markdown",
      "metadata": {
        "id": "liFCm9Yj592q",
        "colab_type": "text"
      },
      "source": [
        "Remember, in this instance, we knew our population parameters, that the average height really is 172 cm and the standard deviation is 5 cm, and we see some of our daily estimates of the population mean were as low as around 168 and some as high as 176."
      ]
    },
    {
      "cell_type": "markdown",
      "metadata": {
        "id": "DHGPcfO9592q",
        "colab_type": "text"
      },
      "source": [
        "__Q10:__ Repeat the above year's worth of samples but for a sample size of 50 (perhaps you had a bigger budget for conducting surveys that year)! Would you expect your distribution of sample means to be wider (more variable) or narrower (more consistent)? Compare your resultant summary statistics to those predicted by the CLT."
      ]
    },
    {
      "cell_type": "markdown",
      "metadata": {
        "id": "MiVhk9XI592r",
        "colab_type": "text"
      },
      "source": [
        "__A:__"
      ]
    },
    {
      "cell_type": "code",
      "metadata": {
        "id": "_Xonp3vz592r",
        "colab_type": "code",
        "colab": {}
      },
      "source": [
        "sample_size_50_mean = []\n",
        "seed(47)\n",
        "# calculate daily means from the larger sample size here\n",
        "for _ in range(365):\n",
        "    sample50 = townsfolk_sampler(50)\n",
        "    sample_size_50_mean.append(np.mean(sample50))"
      ],
      "execution_count": null,
      "outputs": []
    },
    {
      "cell_type": "code",
      "metadata": {
        "id": "xCac1Ewh592u",
        "colab_type": "code",
        "colab": {
          "base_uri": "https://localhost:8080/",
          "height": 347
        },
        "outputId": "ae8999c9-0153-401b-af64-51c0fa11e3a6"
      },
      "source": [
        "_ = plt.hist(sample_size_50_mean, bins=10)\n",
        "_ = plt.xlabel('height (cm)')\n",
        "_ = plt.ylabel('number of people')\n",
        "_ = plt.title('Distribution of heights in sample size 50')\n",
        "print(np.mean(sample_size_50_mean))\n",
        "print(np.std(sample_size_50_mean))\n",
        "print(\"estimated SD=\",np.std(sample_size_50_mean)*np.sqrt(50))"
      ],
      "execution_count": 107,
      "outputs": [
        {
          "output_type": "stream",
          "text": [
            "171.94366080916114\n",
            "0.6736107539771146\n",
            "4.763147320174008\n"
          ],
          "name": "stdout"
        },
        {
          "output_type": "display_data",
          "data": {
            "image/png": "[encoded data removed]",
            "text/plain": [
              "<Figure size 432x288 with 1 Axes>"
            ]
          },
          "metadata": {
            "tags": [],
            "needs_background": "light"
          }
        }
      ]
    },
    {
      "cell_type": "markdown",
      "metadata": {
        "id": "fKmW0bi8592w",
        "colab_type": "text"
      },
      "source": [
        "What we've seen so far, then, is that we can estimate population parameters from a sample from the population, and that samples have their own distributions. Furthermore, the larger the sample size, the narrower are those sampling distributions."
      ]
    },
    {
      "cell_type": "markdown",
      "metadata": {
        "id": "ddBWjySl592x",
        "colab_type": "text"
      },
      "source": [
        "### Normally testing time!"
      ]
    },
    {
      "cell_type": "markdown",
      "metadata": {
        "id": "MYjovCIM592x",
        "colab_type": "text"
      },
      "source": [
        "All of the above is well and good. We've been sampling from a population we know is normally distributed, we've come to understand when to use $n$ and when to use $n-1$ in the denominator to calculate the spread of a distribution, and we've  seen the Central Limit Theorem in action for a sampling distribution. All seems very well behaved in Frequentist land. But, well, why should we really care?"
      ]
    },
    {
      "cell_type": "markdown",
      "metadata": {
        "id": "Y1r1QGNj592x",
        "colab_type": "text"
      },
      "source": [
        "Remember, we rarely (if ever) actually know our population parameters but we still have to estimate them somehow. If we want to make inferences to conclusions like \"this observation is unusual\" or \"my population mean has changed\" then we need to have some idea of what the underlying distribution is so we can calculate relevant probabilities. In frequentist inference, we use the formulae above to deduce these population parameters. Take a moment in the next part of this assignment to refresh your understanding of how these probabilities work."
      ]
    },
    {
      "cell_type": "markdown",
      "metadata": {
        "id": "hi2k7aPi592y",
        "colab_type": "text"
      },
      "source": [
        "Recall some basic properties of the standard normal distribution, such as that about 68% of observations are within plus or minus 1 standard deviation of the mean. Check out the precise definition of a normal distribution on p. 394 of *AoS*. \n",
        "\n",
        "__Q11:__ Using this fact, calculate the probability of observing the value 1 or less in a single observation from the standard normal distribution. Hint: you may find it helpful to sketch the standard normal distribution (the familiar bell shape) and mark the number of standard deviations from the mean on the x-axis and shade the regions of the curve that contain certain percentages of the population."
      ]
    },
    {
      "cell_type": "markdown",
      "metadata": {
        "id": "pY0pJQiy592y",
        "colab_type": "text"
      },
      "source": [
        "__A:__![download.jfif](data:image/jpeg;base64,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)\n",
        "\n",
        "\n",
        "0.85"
      ]
    },
    {
      "cell_type": "markdown",
      "metadata": {
        "id": "bAmNpV7X592z",
        "colab_type": "text"
      },
      "source": [
        "Calculating this probability involved calculating the area under the curve from the value of 1 and below. To put it in mathematical terms, we need to *integrate* the probability density function. We could just add together the known areas of chunks (from -Inf to 0 and then 0 to $+\\sigma$ in the example above). One way to do this is to look up tables (literally). Fortunately, scipy has this functionality built in with the cdf() function."
      ]
    },
    {
      "cell_type": "markdown",
      "metadata": {
        "id": "GbsZlRa1592z",
        "colab_type": "text"
      },
      "source": [
        "__Q12:__ Use the cdf() function to answer the question above again and verify you get the same answer."
      ]
    },
    {
      "cell_type": "markdown",
      "metadata": {
        "id": "izGLgqnB5920",
        "colab_type": "text"
      },
      "source": [
        "__A:__"
      ]
    },
    {
      "cell_type": "code",
      "metadata": {
        "id": "hyiNHuqd5920",
        "colab_type": "code",
        "colab": {
          "base_uri": "https://localhost:8080/",
          "height": 35
        },
        "outputId": "b43b20b0-de66-4612-db2d-c5e06c86f8f0"
      },
      "source": [
        "norm.cdf(1, loc=0)"
      ],
      "execution_count": 108,
      "outputs": [
        {
          "output_type": "execute_result",
          "data": {
            "text/plain": [
              "0.8413447460685429"
            ]
          },
          "metadata": {
            "tags": []
          },
          "execution_count": 108
        }
      ]
    },
    {
      "cell_type": "markdown",
      "metadata": {
        "id": "BMtDZz6O5922",
        "colab_type": "text"
      },
      "source": [
        "__Q13:__ Using our knowledge of the population parameters for our townsfolks' heights, what is the probability of selecting one person at random and their height being 177 cm or less? Calculate this using both of the approaches given above."
      ]
    },
    {
      "cell_type": "markdown",
      "metadata": {
        "id": "QMBr-bmd5923",
        "colab_type": "text"
      },
      "source": [
        "__A:__"
      ]
    },
    {
      "cell_type": "code",
      "metadata": {
        "id": "sg5Icq1i5923",
        "colab_type": "code",
        "colab": {
          "base_uri": "https://localhost:8080/",
          "height": 35
        },
        "outputId": "a5d25155-55ca-4876-9a30-8b650b76ecfe"
      },
      "source": [
        "norm.cdf(177, loc=172, scale=5)"
      ],
      "execution_count": null,
      "outputs": [
        {
          "output_type": "execute_result",
          "data": {
            "text/plain": [
              "0.8413447460685429"
            ]
          },
          "metadata": {
            "tags": []
          },
          "execution_count": 84
        }
      ]
    },
    {
      "cell_type": "markdown",
      "metadata": {
        "id": "THxwkz9e5925",
        "colab_type": "text"
      },
      "source": [
        "__Q14:__ Turning this question around — suppose we randomly pick one person and measure their height and find they are 2.00 m tall. How surprised should we be at this result, given what we know about the population distribution? In other words, how likely would it be to obtain a value at least as extreme as this? Express this as a probability. "
      ]
    },
    {
      "cell_type": "markdown",
      "metadata": {
        "id": "3rZrkvPH5926",
        "colab_type": "text"
      },
      "source": [
        "__A:__"
      ]
    },
    {
      "cell_type": "code",
      "metadata": {
        "id": "nxTJzUqK5926",
        "colab_type": "code",
        "colab": {
          "base_uri": "https://localhost:8080/",
          "height": 35
        },
        "outputId": "a7f1b57c-6eed-4c37-c2ea-3f03f7125aab"
      },
      "source": [
        "1-(norm.pdf(200, loc=172, scale=5))"
      ],
      "execution_count": null,
      "outputs": [
        {
          "output_type": "execute_result",
          "data": {
            "text/plain": [
              "0.999999987634759"
            ]
          },
          "metadata": {
            "tags": []
          },
          "execution_count": 91
        }
      ]
    },
    {
      "cell_type": "markdown",
      "metadata": {
        "id": "dESGVqZC5928",
        "colab_type": "text"
      },
      "source": [
        "What we've just done is calculate the ***p-value*** of the observation of someone 2.00m tall (review *p*-values if you need to on p. 399 of *AoS*). We could calculate this probability by virtue of knowing the population parameters. We were then able to use the known properties of the relevant normal distribution to calculate the probability of observing a value at least as extreme as our test value."
      ]
    },
    {
      "cell_type": "markdown",
      "metadata": {
        "id": "7exhNt505929",
        "colab_type": "text"
      },
      "source": [
        "We're about to come to a pinch, though. We've said a couple of times that we rarely, if ever, know the true population parameters; we have to estimate them from our sample and we cannot even begin to estimate the standard deviation from a single observation. \n",
        "\n",
        "This is very true and usually we have sample sizes larger than one. This means we can calculate the mean of the sample as our best estimate of the population mean and the standard deviation as our best estimate of the population standard deviation. \n",
        "\n",
        "In other words, we are now coming to deal with the sampling distributions we mentioned above as we are generally concerned with the properties of the sample means we obtain. \n",
        "\n",
        "Above, we highlighted one result from the CLT, whereby the sampling distribution (of the mean) becomes narrower and narrower with the square root of the sample size. We remind ourselves that another result from the CLT is that _even if the underlying population distribution is not normal, the sampling distribution will tend to become normal with sufficiently large sample size_. (**Check out p. 199 of AoS if you need to revise this**). This is the key driver for us 'requiring' a certain sample size, for example you may frequently see a minimum sample size of 30 stated in many places. In reality this is simply a rule of thumb; if the underlying distribution is approximately normal then your sampling distribution will already be pretty normal, but if the underlying distribution is heavily skewed then you'd want to increase your sample size."
      ]
    },
    {
      "cell_type": "markdown",
      "metadata": {
        "id": "yj2QjqkR5929",
        "colab_type": "text"
      },
      "source": [
        "__Q15:__ Let's now start from the position of knowing nothing about the heights of people in our town.\n",
        "* Use the random seed of 47, to randomly sample the heights of 50 townsfolk\n",
        "* Estimate the population mean using np.mean\n",
        "* Estimate the population standard deviation using np.std (remember which denominator to use!)\n",
        "* Calculate the (95%) [margin of error](https://www.statisticshowto.datasciencecentral.com/probability-and-statistics/hypothesis-testing/margin-of-error/#WhatMofE) (use the exact critial z value to 2 decimal places - [look this up](https://www.statisticshowto.datasciencecentral.com/probability-and-statistics/find-critical-values/) or use norm.ppf()) Recall that the ***margin of error*** is mentioned on p. 189 of the *AoS* and discussed in depth in that chapter). \n",
        "* Calculate the 95% Confidence Interval of the mean (***confidence intervals*** are defined on p. 385 of *AoS*) \n",
        "* Does this interval include the true population mean?"
      ]
    },
    {
      "cell_type": "markdown",
      "metadata": {
        "id": "67Oz1bBU592-",
        "colab_type": "text"
      },
      "source": [
        "__A:__Yes."
      ]
    },
    {
      "cell_type": "code",
      "metadata": {
        "id": "n4vVBDMp592-",
        "colab_type": "code",
        "colab": {}
      },
      "source": [
        "seed(47)\n",
        "# take your sample now\n",
        "sample_50_height = townsfolk_sampler(50)"
      ],
      "execution_count": null,
      "outputs": []
    },
    {
      "cell_type": "code",
      "metadata": {
        "id": "zoXpB-DJ593A",
        "colab_type": "code",
        "colab": {
          "base_uri": "https://localhost:8080/",
          "height": 35
        },
        "outputId": "b713173f-930d-4e30-a33a-f19a56803055"
      },
      "source": [
        "sample_mean_height = np.mean(sample_50_height)*50/49\n",
        "print(sample_mean_height)"
      ],
      "execution_count": null,
      "outputs": [
        {
          "output_type": "stream",
          "text": [
            "176.30766414048858\n"
          ],
          "name": "stdout"
        }
      ]
    },
    {
      "cell_type": "code",
      "metadata": {
        "id": "-NJXC8Zy593E",
        "colab_type": "code",
        "colab": {
          "base_uri": "https://localhost:8080/",
          "height": 35
        },
        "outputId": "9a0762f9-e217-43b5-fb9c-4cb7162165d3"
      },
      "source": [
        "sample_std_height = np.std(sample_50_height, ddof=1)\n",
        "print(sample_std_height)"
      ],
      "execution_count": null,
      "outputs": [
        {
          "output_type": "stream",
          "text": [
            "4.195424364433547\n"
          ],
          "name": "stdout"
        }
      ]
    },
    {
      "cell_type": "code",
      "metadata": {
        "id": "3_9kM0fq593G",
        "colab_type": "code",
        "colab": {
          "base_uri": "https://localhost:8080/",
          "height": 35
        },
        "outputId": "8d9c6081-cb3e-4dd0-ab2b-decd07a9696f"
      },
      "source": [
        "z_critical = norm.ppf(0.95)\n",
        "sample_margin_of_error = z_critical * (sample_std_height/np.sqrt(50))\n",
        "print(sample_margin_of_error)"
      ],
      "execution_count": null,
      "outputs": [
        {
          "output_type": "stream",
          "text": [
            "0.9759288364989565\n"
          ],
          "name": "stdout"
        }
      ]
    },
    {
      "cell_type": "code",
      "metadata": {
        "id": "1Zovx7dQ593J",
        "colab_type": "code",
        "colab": {
          "base_uri": "https://localhost:8080/",
          "height": 35
        },
        "outputId": "db5db0af-afae-461e-c583-c200fb198bd8"
      },
      "source": [
        "sample_confidence_interval = (sample_mean_height - sample_margin_of_error, sample_mean_height + sample_margin_of_error)\n",
        "print(sample_confidence_interval)"
      ],
      "execution_count": null,
      "outputs": [
        {
          "output_type": "stream",
          "text": [
            "(175.33173530398963, 177.28359297698753)\n"
          ],
          "name": "stdout"
        }
      ]
    },
    {
      "cell_type": "markdown",
      "metadata": {
        "id": "ItBwVCXY593L",
        "colab_type": "text"
      },
      "source": [
        "__Q16:__ Above, we calculated the confidence interval using the critical z value. What is the problem with this? What requirement, or requirements, are we (strictly) failing?"
      ]
    },
    {
      "cell_type": "markdown",
      "metadata": {
        "id": "goYH7suM593M",
        "colab_type": "text"
      },
      "source": [
        "__A:__"
      ]
    },
    {
      "cell_type": "markdown",
      "metadata": {
        "id": "WC5eXtQM593M",
        "colab_type": "text"
      },
      "source": [
        "__Q17:__ Calculate the 95% confidence interval for the mean using the _t_ distribution. Is this wider or narrower than that based on the normal distribution above? If you're unsure, you may find this [resource](https://www.statisticshowto.datasciencecentral.com/probability-and-statistics/confidence-interval/) useful. For calculating the critical value, remember how you could calculate this for the normal distribution using norm.ppf()."
      ]
    },
    {
      "cell_type": "markdown",
      "metadata": {
        "id": "uWcjN6zt593N",
        "colab_type": "text"
      },
      "source": [
        "__A:__"
      ]
    },
    {
      "cell_type": "code",
      "metadata": {
        "id": "MvEKeeka593N",
        "colab_type": "code",
        "colab": {}
      },
      "source": [
        "t_critical = t.ppf(0.95, 49)"
      ],
      "execution_count": null,
      "outputs": []
    },
    {
      "cell_type": "code",
      "metadata": {
        "id": "unX8E4FZ593P",
        "colab_type": "code",
        "colab": {}
      },
      "source": [
        "sample_t_margin_of_error = t_critical * (sample_std_height/np.sqrt(50))"
      ],
      "execution_count": null,
      "outputs": []
    },
    {
      "cell_type": "code",
      "metadata": {
        "id": "KrYb0_FJ593S",
        "colab_type": "code",
        "colab": {
          "base_uri": "https://localhost:8080/",
          "height": 35
        },
        "outputId": "8dea43b1-9368-4ea6-e8ac-cab7ee8916e9"
      },
      "source": [
        "sample_t_confidence_interval = (sample_mean_height - sample_t_margin_of_error,sample_mean_height + sample_t_margin_of_error)\n",
        "print(sample_t_confidence_interval)"
      ],
      "execution_count": null,
      "outputs": [
        {
          "output_type": "stream",
          "text": [
            "(175.3129286002146, 177.30239968076256)\n"
          ],
          "name": "stdout"
        }
      ]
    },
    {
      "cell_type": "markdown",
      "metadata": {
        "id": "ADp0Z6PB593U",
        "colab_type": "text"
      },
      "source": [
        "This is slightly wider than the previous confidence interval. This reflects the greater uncertainty given that we are estimating population parameters from a sample."
      ]
    },
    {
      "cell_type": "markdown",
      "metadata": {
        "id": "14YQIWGz593U",
        "colab_type": "text"
      },
      "source": [
        "## 4. Learning outcomes"
      ]
    },
    {
      "cell_type": "markdown",
      "metadata": {
        "id": "uvD6UymC593U",
        "colab_type": "text"
      },
      "source": [
        "Having completed this project notebook, you now have hands-on experience:\n",
        "* sampling and calculating probabilities from a normal distribution\n",
        "* identifying the correct way to estimate the standard deviation of a population (the population parameter) from a sample\n",
        "* with sampling distribution and now know how the Central Limit Theorem applies\n",
        "* with how to calculate critical values and confidence intervals"
      ]
    },
    {
      "cell_type": "code",
      "metadata": {
        "id": "bciecvtR593V",
        "colab_type": "code",
        "colab": {}
      },
      "source": [
        ""
      ],
      "execution_count": null,
      "outputs": []
    }
  ]
}